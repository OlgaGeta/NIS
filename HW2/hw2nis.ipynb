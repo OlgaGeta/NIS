{
 "cells": [
  {
   "cell_type": "code",
   "execution_count": 1,
   "id": "156b4c8a",
   "metadata": {},
   "outputs": [],
   "source": [
    "import pandas as pd\n",
    "import numpy as np\n",
    "import re\n",
    "import nltk\n",
    "from nltk import ngrams\n",
    "from nltk.tokenize import word_tokenize\n",
    "from nltk import bigrams\n",
    "from nltk.probability import FreqDist\n",
    "\n",
    "import matplotlib.pyplot as plt"
   ]
  },
  {
   "cell_type": "code",
   "execution_count": 2,
   "id": "18ce0ed0",
   "metadata": {},
   "outputs": [],
   "source": [
    "#pip install pystan==2.19.1.1"
   ]
  },
  {
   "cell_type": "code",
   "execution_count": 3,
   "id": "a96e2f9f",
   "metadata": {},
   "outputs": [],
   "source": [
    "#pip install prophet"
   ]
  },
  {
   "cell_type": "code",
   "execution_count": 4,
   "id": "8af5341c",
   "metadata": {},
   "outputs": [],
   "source": [
    "rep_df = pd.read_excel(open('NISHw2.xlsx', 'rb'),sheet_name='Report', skiprows=[0])  "
   ]
  },
  {
   "cell_type": "code",
   "execution_count": 5,
   "id": "f42b3b23",
   "metadata": {},
   "outputs": [
    {
     "data": {
      "text/html": [
       "<div>\n",
       "<style scoped>\n",
       "    .dataframe tbody tr th:only-of-type {\n",
       "        vertical-align: middle;\n",
       "    }\n",
       "\n",
       "    .dataframe tbody tr th {\n",
       "        vertical-align: top;\n",
       "    }\n",
       "\n",
       "    .dataframe thead th {\n",
       "        text-align: right;\n",
       "    }\n",
       "</style>\n",
       "<table border=\"1\" class=\"dataframe\">\n",
       "  <thead>\n",
       "    <tr style=\"text-align: right;\">\n",
       "      <th></th>\n",
       "      <th>Социальная сеть</th>\n",
       "      <th>ID поста</th>\n",
       "      <th>Владелец</th>\n",
       "      <th>Текст</th>\n",
       "      <th>Эмоциональный окрас</th>\n",
       "      <th>Дата</th>\n",
       "      <th>Комментариев</th>\n",
       "      <th>Лайков</th>\n",
       "      <th>Репостов</th>\n",
       "      <th>Просмотров</th>\n",
       "      <th>Негативных комментариев</th>\n",
       "      <th>Позитивных комментариев</th>\n",
       "      <th>Нейтральных комментариев</th>\n",
       "      <th>Неопределенных комментариев</th>\n",
       "      <th>Вежливых комментариев</th>\n",
       "      <th>Юмористических комментариев</th>\n",
       "    </tr>\n",
       "  </thead>\n",
       "  <tbody>\n",
       "    <tr>\n",
       "      <th>0</th>\n",
       "      <td>Вконтакте</td>\n",
       "      <td>-159668210_25795</td>\n",
       "      <td>FSOCIETY | IT - сообщество</td>\n",
       "      <td>Нам задают много вопросов о технологическом ко...</td>\n",
       "      <td>Нейтральность</td>\n",
       "      <td>2021-12-31 07:45:00</td>\n",
       "      <td>0</td>\n",
       "      <td>0</td>\n",
       "      <td>0</td>\n",
       "      <td>3548.0</td>\n",
       "      <td>0</td>\n",
       "      <td>0</td>\n",
       "      <td>0</td>\n",
       "      <td>0</td>\n",
       "      <td>0</td>\n",
       "      <td>0</td>\n",
       "    </tr>\n",
       "    <tr>\n",
       "      <th>1</th>\n",
       "      <td>Вконтакте</td>\n",
       "      <td>-74188185_20318</td>\n",
       "      <td>dev.by</td>\n",
       "      <td>В высадке на Марс бизнесмен видит возможность ...</td>\n",
       "      <td>Нейтральность</td>\n",
       "      <td>2021-12-31 07:41:31</td>\n",
       "      <td>0</td>\n",
       "      <td>2</td>\n",
       "      <td>0</td>\n",
       "      <td>346.0</td>\n",
       "      <td>0</td>\n",
       "      <td>0</td>\n",
       "      <td>0</td>\n",
       "      <td>0</td>\n",
       "      <td>0</td>\n",
       "      <td>0</td>\n",
       "    </tr>\n",
       "    <tr>\n",
       "      <th>2</th>\n",
       "      <td>Вконтакте</td>\n",
       "      <td>-74188185_20317</td>\n",
       "      <td>dev.by</td>\n",
       "      <td>Гораздо чаще остальных американские компании и...</td>\n",
       "      <td>Нейтральность</td>\n",
       "      <td>2021-12-31 07:40:42</td>\n",
       "      <td>0</td>\n",
       "      <td>0</td>\n",
       "      <td>0</td>\n",
       "      <td>319.0</td>\n",
       "      <td>0</td>\n",
       "      <td>0</td>\n",
       "      <td>0</td>\n",
       "      <td>0</td>\n",
       "      <td>0</td>\n",
       "      <td>0</td>\n",
       "    </tr>\n",
       "    <tr>\n",
       "      <th>3</th>\n",
       "      <td>Вконтакте</td>\n",
       "      <td>-21732035_11926</td>\n",
       "      <td>Информационная безопасность - Anti-Malware.ru</td>\n",
       "      <td>Twitter-аккаунт, который ранее связывали с защ...</td>\n",
       "      <td>Негатив</td>\n",
       "      <td>2021-12-31 07:23:16</td>\n",
       "      <td>0</td>\n",
       "      <td>2</td>\n",
       "      <td>0</td>\n",
       "      <td>222.0</td>\n",
       "      <td>0</td>\n",
       "      <td>0</td>\n",
       "      <td>0</td>\n",
       "      <td>0</td>\n",
       "      <td>0</td>\n",
       "      <td>0</td>\n",
       "    </tr>\n",
       "    <tr>\n",
       "      <th>4</th>\n",
       "      <td>Вконтакте</td>\n",
       "      <td>-718901_3742</td>\n",
       "      <td>EPAM Belarus</td>\n",
       "      <td>Дорогие коллеги и друзья! \\n⠀ \\nСпасибо за ваш...</td>\n",
       "      <td>Позитив</td>\n",
       "      <td>2021-12-31 07:13:35</td>\n",
       "      <td>0</td>\n",
       "      <td>37</td>\n",
       "      <td>2</td>\n",
       "      <td>3956.0</td>\n",
       "      <td>0</td>\n",
       "      <td>0</td>\n",
       "      <td>0</td>\n",
       "      <td>0</td>\n",
       "      <td>0</td>\n",
       "      <td>0</td>\n",
       "    </tr>\n",
       "    <tr>\n",
       "      <th>...</th>\n",
       "      <td>...</td>\n",
       "      <td>...</td>\n",
       "      <td>...</td>\n",
       "      <td>...</td>\n",
       "      <td>...</td>\n",
       "      <td>...</td>\n",
       "      <td>...</td>\n",
       "      <td>...</td>\n",
       "      <td>...</td>\n",
       "      <td>...</td>\n",
       "      <td>...</td>\n",
       "      <td>...</td>\n",
       "      <td>...</td>\n",
       "      <td>...</td>\n",
       "      <td>...</td>\n",
       "      <td>...</td>\n",
       "    </tr>\n",
       "    <tr>\n",
       "      <th>13625</th>\n",
       "      <td>Вконтакте</td>\n",
       "      <td>-25758_79797</td>\n",
       "      <td>Changellenge &gt;&gt; Карьера от студента к СЕО</td>\n",
       "      <td>#education@changellengeglobal #Changellenge #C...</td>\n",
       "      <td>Позитив</td>\n",
       "      <td>2021-09-01 08:12:00</td>\n",
       "      <td>0</td>\n",
       "      <td>1</td>\n",
       "      <td>0</td>\n",
       "      <td>3430.0</td>\n",
       "      <td>0</td>\n",
       "      <td>0</td>\n",
       "      <td>0</td>\n",
       "      <td>0</td>\n",
       "      <td>0</td>\n",
       "      <td>0</td>\n",
       "    </tr>\n",
       "    <tr>\n",
       "      <th>13626</th>\n",
       "      <td>Вконтакте</td>\n",
       "      <td>-68023176_17665</td>\n",
       "      <td>AppTractor</td>\n",
       "      <td>В этой статье я хотел бы поделиться своим опыт...</td>\n",
       "      <td>Нейтральность</td>\n",
       "      <td>2021-09-01 08:08:37</td>\n",
       "      <td>0</td>\n",
       "      <td>1</td>\n",
       "      <td>0</td>\n",
       "      <td>160.0</td>\n",
       "      <td>0</td>\n",
       "      <td>0</td>\n",
       "      <td>0</td>\n",
       "      <td>0</td>\n",
       "      <td>0</td>\n",
       "      <td>0</td>\n",
       "    </tr>\n",
       "    <tr>\n",
       "      <th>13627</th>\n",
       "      <td>Вконтакте</td>\n",
       "      <td>-66178731_602</td>\n",
       "      <td>Управление проектами в России | ГК ПМСОФТ</td>\n",
       "      <td>#ДЕНЬЗНАНИЙ #1СЕНТЯБРЯ #ПМСОФТ\\n🍁☀️🧁🎈💐\\n\\n#сп...</td>\n",
       "      <td>Позитив</td>\n",
       "      <td>2021-09-01 08:01:23</td>\n",
       "      <td>0</td>\n",
       "      <td>3</td>\n",
       "      <td>0</td>\n",
       "      <td>66.0</td>\n",
       "      <td>0</td>\n",
       "      <td>0</td>\n",
       "      <td>0</td>\n",
       "      <td>0</td>\n",
       "      <td>0</td>\n",
       "      <td>0</td>\n",
       "    </tr>\n",
       "    <tr>\n",
       "      <th>13628</th>\n",
       "      <td>Вконтакте</td>\n",
       "      <td>-139121250_17894</td>\n",
       "      <td>iT News</td>\n",
       "      <td>Microsoft раскрыла дату выхода Windows 11\\n \\n...</td>\n",
       "      <td>Нейтральность</td>\n",
       "      <td>2021-09-01 08:00:01</td>\n",
       "      <td>0</td>\n",
       "      <td>6</td>\n",
       "      <td>4</td>\n",
       "      <td>896.0</td>\n",
       "      <td>0</td>\n",
       "      <td>0</td>\n",
       "      <td>0</td>\n",
       "      <td>0</td>\n",
       "      <td>0</td>\n",
       "      <td>0</td>\n",
       "    </tr>\n",
       "    <tr>\n",
       "      <th>13629</th>\n",
       "      <td>Вконтакте</td>\n",
       "      <td>-154862566_520</td>\n",
       "      <td>Клевер | Журнал о работе в IT</td>\n",
       "      <td>Ставить цели, связанные с обучением новому, – ...</td>\n",
       "      <td>Нейтральность</td>\n",
       "      <td>2021-09-01 07:59:46</td>\n",
       "      <td>0</td>\n",
       "      <td>13</td>\n",
       "      <td>5</td>\n",
       "      <td>810.0</td>\n",
       "      <td>0</td>\n",
       "      <td>0</td>\n",
       "      <td>0</td>\n",
       "      <td>0</td>\n",
       "      <td>0</td>\n",
       "      <td>0</td>\n",
       "    </tr>\n",
       "  </tbody>\n",
       "</table>\n",
       "<p>13630 rows × 16 columns</p>\n",
       "</div>"
      ],
      "text/plain": [
       "      Социальная сеть          ID поста  \\\n",
       "0           Вконтакте  -159668210_25795   \n",
       "1           Вконтакте   -74188185_20318   \n",
       "2           Вконтакте   -74188185_20317   \n",
       "3           Вконтакте   -21732035_11926   \n",
       "4           Вконтакте      -718901_3742   \n",
       "...               ...               ...   \n",
       "13625       Вконтакте      -25758_79797   \n",
       "13626       Вконтакте   -68023176_17665   \n",
       "13627       Вконтакте     -66178731_602   \n",
       "13628       Вконтакте  -139121250_17894   \n",
       "13629       Вконтакте    -154862566_520   \n",
       "\n",
       "                                            Владелец  \\\n",
       "0                         FSOCIETY | IT - сообщество   \n",
       "1                                             dev.by   \n",
       "2                                             dev.by   \n",
       "3      Информационная безопасность - Anti-Malware.ru   \n",
       "4                                       EPAM Belarus   \n",
       "...                                              ...   \n",
       "13625      Changellenge >> Карьера от студента к СЕО   \n",
       "13626                                     AppTractor   \n",
       "13627      Управление проектами в России | ГК ПМСОФТ   \n",
       "13628                                        iT News   \n",
       "13629                  Клевер | Журнал о работе в IT   \n",
       "\n",
       "                                                   Текст Эмоциональный окрас  \\\n",
       "0      Нам задают много вопросов о технологическом ко...       Нейтральность   \n",
       "1      В высадке на Марс бизнесмен видит возможность ...       Нейтральность   \n",
       "2      Гораздо чаще остальных американские компании и...       Нейтральность   \n",
       "3      Twitter-аккаунт, который ранее связывали с защ...             Негатив   \n",
       "4      Дорогие коллеги и друзья! \\n⠀ \\nСпасибо за ваш...             Позитив   \n",
       "...                                                  ...                 ...   \n",
       "13625  #education@changellengeglobal #Changellenge #C...             Позитив   \n",
       "13626  В этой статье я хотел бы поделиться своим опыт...       Нейтральность   \n",
       "13627   #ДЕНЬЗНАНИЙ #1СЕНТЯБРЯ #ПМСОФТ\\n🍁☀️🧁🎈💐\\n\\n#сп...             Позитив   \n",
       "13628  Microsoft раскрыла дату выхода Windows 11\\n \\n...       Нейтральность   \n",
       "13629  Ставить цели, связанные с обучением новому, – ...       Нейтральность   \n",
       "\n",
       "                      Дата  Комментариев  Лайков  Репостов  Просмотров  \\\n",
       "0      2021-12-31 07:45:00             0       0         0      3548.0   \n",
       "1      2021-12-31 07:41:31             0       2         0       346.0   \n",
       "2      2021-12-31 07:40:42             0       0         0       319.0   \n",
       "3      2021-12-31 07:23:16             0       2         0       222.0   \n",
       "4      2021-12-31 07:13:35             0      37         2      3956.0   \n",
       "...                    ...           ...     ...       ...         ...   \n",
       "13625  2021-09-01 08:12:00             0       1         0      3430.0   \n",
       "13626  2021-09-01 08:08:37             0       1         0       160.0   \n",
       "13627  2021-09-01 08:01:23             0       3         0        66.0   \n",
       "13628  2021-09-01 08:00:01             0       6         4       896.0   \n",
       "13629  2021-09-01 07:59:46             0      13         5       810.0   \n",
       "\n",
       "       Негативных комментариев  Позитивных комментариев  \\\n",
       "0                            0                        0   \n",
       "1                            0                        0   \n",
       "2                            0                        0   \n",
       "3                            0                        0   \n",
       "4                            0                        0   \n",
       "...                        ...                      ...   \n",
       "13625                        0                        0   \n",
       "13626                        0                        0   \n",
       "13627                        0                        0   \n",
       "13628                        0                        0   \n",
       "13629                        0                        0   \n",
       "\n",
       "       Нейтральных комментариев  Неопределенных комментариев  \\\n",
       "0                             0                            0   \n",
       "1                             0                            0   \n",
       "2                             0                            0   \n",
       "3                             0                            0   \n",
       "4                             0                            0   \n",
       "...                         ...                          ...   \n",
       "13625                         0                            0   \n",
       "13626                         0                            0   \n",
       "13627                         0                            0   \n",
       "13628                         0                            0   \n",
       "13629                         0                            0   \n",
       "\n",
       "       Вежливых комментариев  Юмористических комментариев  \n",
       "0                          0                            0  \n",
       "1                          0                            0  \n",
       "2                          0                            0  \n",
       "3                          0                            0  \n",
       "4                          0                            0  \n",
       "...                      ...                          ...  \n",
       "13625                      0                            0  \n",
       "13626                      0                            0  \n",
       "13627                      0                            0  \n",
       "13628                      0                            0  \n",
       "13629                      0                            0  \n",
       "\n",
       "[13630 rows x 16 columns]"
      ]
     },
     "execution_count": 5,
     "metadata": {},
     "output_type": "execute_result"
    }
   ],
   "source": [
    "rep_df"
   ]
  },
  {
   "cell_type": "code",
   "execution_count": 6,
   "id": "c06b00d1",
   "metadata": {},
   "outputs": [],
   "source": [
    "com_df = pd.read_excel(open('NISHw2.xlsx', 'rb'),sheet_name='Comments', skiprows=[0])  "
   ]
  },
  {
   "cell_type": "code",
   "execution_count": 7,
   "id": "f2b4aff0",
   "metadata": {
    "scrolled": true
   },
   "outputs": [
    {
     "data": {
      "text/html": [
       "<div>\n",
       "<style scoped>\n",
       "    .dataframe tbody tr th:only-of-type {\n",
       "        vertical-align: middle;\n",
       "    }\n",
       "\n",
       "    .dataframe tbody tr th {\n",
       "        vertical-align: top;\n",
       "    }\n",
       "\n",
       "    .dataframe thead th {\n",
       "        text-align: right;\n",
       "    }\n",
       "</style>\n",
       "<table border=\"1\" class=\"dataframe\">\n",
       "  <thead>\n",
       "    <tr style=\"text-align: right;\">\n",
       "      <th></th>\n",
       "      <th>Социальная сеть</th>\n",
       "      <th>ID поста</th>\n",
       "      <th>ID комментария</th>\n",
       "      <th>Владелец</th>\n",
       "      <th>ID Владелеца</th>\n",
       "      <th>Текст</th>\n",
       "      <th>Эмоциональный окрас</th>\n",
       "      <th>Дата</th>\n",
       "      <th>Лайков</th>\n",
       "    </tr>\n",
       "  </thead>\n",
       "  <tbody>\n",
       "    <tr>\n",
       "      <th>0</th>\n",
       "      <td>Вконтакте</td>\n",
       "      <td>-115807015_2334</td>\n",
       "      <td>5412482_2336</td>\n",
       "      <td>Валентин Точилкин</td>\n",
       "      <td>5412482</td>\n",
       "      <td>Задумка понравилась! Думаю будет смотреться лу...</td>\n",
       "      <td>Нейтральность</td>\n",
       "      <td>2021-12-31 08:19:05</td>\n",
       "      <td>1</td>\n",
       "    </tr>\n",
       "    <tr>\n",
       "      <th>1</th>\n",
       "      <td>Вконтакте</td>\n",
       "      <td>-30666517_1774956</td>\n",
       "      <td>308730199_1774960</td>\n",
       "      <td>Денис Гончаров</td>\n",
       "      <td>308730199</td>\n",
       "      <td>Вам тоже здоровья и удачи в прошлом и крепкого...</td>\n",
       "      <td>Вежливость</td>\n",
       "      <td>2021-12-31 07:09:40</td>\n",
       "      <td>9</td>\n",
       "    </tr>\n",
       "    <tr>\n",
       "      <th>2</th>\n",
       "      <td>Вконтакте</td>\n",
       "      <td>-30666517_1774956</td>\n",
       "      <td>10784303_1774979</td>\n",
       "      <td>Олег Кирин</td>\n",
       "      <td>10784303</td>\n",
       "      <td>Полагаю: Вера и Надежда – это тимлид и прожект...</td>\n",
       "      <td>Юмор</td>\n",
       "      <td>2021-12-31 09:20:39</td>\n",
       "      <td>4</td>\n",
       "    </tr>\n",
       "    <tr>\n",
       "      <th>3</th>\n",
       "      <td>Вконтакте</td>\n",
       "      <td>-30666517_1774956</td>\n",
       "      <td>586953361_1775092</td>\n",
       "      <td>Замбек Замбеков</td>\n",
       "      <td>586953361</td>\n",
       "      <td>этот интеллект на али давно существует</td>\n",
       "      <td>Нейтральность</td>\n",
       "      <td>2021-12-31 20:38:00</td>\n",
       "      <td>1</td>\n",
       "    </tr>\n",
       "    <tr>\n",
       "      <th>4</th>\n",
       "      <td>Вконтакте</td>\n",
       "      <td>-30666517_1774956</td>\n",
       "      <td>19496621_1775350</td>\n",
       "      <td>Александр Бирабиджанов</td>\n",
       "      <td>19496621</td>\n",
       "      <td>Будет вечный Свет.</td>\n",
       "      <td>Нейтральность</td>\n",
       "      <td>2022-01-03 00:04:52</td>\n",
       "      <td>1</td>\n",
       "    </tr>\n",
       "    <tr>\n",
       "      <th>...</th>\n",
       "      <td>...</td>\n",
       "      <td>...</td>\n",
       "      <td>...</td>\n",
       "      <td>...</td>\n",
       "      <td>...</td>\n",
       "      <td>...</td>\n",
       "      <td>...</td>\n",
       "      <td>...</td>\n",
       "      <td>...</td>\n",
       "    </tr>\n",
       "    <tr>\n",
       "      <th>21493</th>\n",
       "      <td>Вконтакте</td>\n",
       "      <td>-24682865_28855</td>\n",
       "      <td>608612_29743</td>\n",
       "      <td>Алексей Рысаков</td>\n",
       "      <td>608612</td>\n",
       "      <td>С мая месяца мурыжат с возвратом денег. Все за...</td>\n",
       "      <td>Негатив</td>\n",
       "      <td>2021-12-08 19:23:12</td>\n",
       "      <td>1</td>\n",
       "    </tr>\n",
       "    <tr>\n",
       "      <th>21494</th>\n",
       "      <td>Вконтакте</td>\n",
       "      <td>-24682865_28855</td>\n",
       "      <td>514006271_30353</td>\n",
       "      <td>Red Kirill</td>\n",
       "      <td>514006271</td>\n",
       "      <td>Нет войне!</td>\n",
       "      <td>Нейтральность</td>\n",
       "      <td>2022-03-01 14:40:12</td>\n",
       "      <td>0</td>\n",
       "    </tr>\n",
       "    <tr>\n",
       "      <th>21495</th>\n",
       "      <td>Вконтакте</td>\n",
       "      <td>-139121250_17896</td>\n",
       "      <td>551359045_17980</td>\n",
       "      <td>Владимир Прин</td>\n",
       "      <td>551359045</td>\n",
       "      <td>Чот много смартфонов на винде я погляжу</td>\n",
       "      <td>Нейтральность</td>\n",
       "      <td>2021-09-05 19:02:41</td>\n",
       "      <td>0</td>\n",
       "    </tr>\n",
       "    <tr>\n",
       "      <th>21496</th>\n",
       "      <td>Вконтакте</td>\n",
       "      <td>-139121250_17896</td>\n",
       "      <td>510436278_17982</td>\n",
       "      <td>Дима Асеев</td>\n",
       "      <td>510436278</td>\n",
       "      <td>На тот момент система была хорошей, и мне каже...</td>\n",
       "      <td>Нейтральность</td>\n",
       "      <td>2021-09-05 19:06:47</td>\n",
       "      <td>8</td>\n",
       "    </tr>\n",
       "    <tr>\n",
       "      <th>21497</th>\n",
       "      <td>Вконтакте</td>\n",
       "      <td>-718901_3582</td>\n",
       "      <td>558639831_3603</td>\n",
       "      <td>Алексей Павловец</td>\n",
       "      <td>558639831</td>\n",
       "      <td>Мой сын ему 12 лет самостоятельно изучает JS. ...</td>\n",
       "      <td>Нейтральность</td>\n",
       "      <td>2021-09-10 20:28:53</td>\n",
       "      <td>0</td>\n",
       "    </tr>\n",
       "  </tbody>\n",
       "</table>\n",
       "<p>21498 rows × 9 columns</p>\n",
       "</div>"
      ],
      "text/plain": [
       "      Социальная сеть           ID поста     ID комментария  \\\n",
       "0           Вконтакте    -115807015_2334       5412482_2336   \n",
       "1           Вконтакте  -30666517_1774956  308730199_1774960   \n",
       "2           Вконтакте  -30666517_1774956   10784303_1774979   \n",
       "3           Вконтакте  -30666517_1774956  586953361_1775092   \n",
       "4           Вконтакте  -30666517_1774956   19496621_1775350   \n",
       "...               ...                ...                ...   \n",
       "21493       Вконтакте    -24682865_28855       608612_29743   \n",
       "21494       Вконтакте    -24682865_28855    514006271_30353   \n",
       "21495       Вконтакте   -139121250_17896    551359045_17980   \n",
       "21496       Вконтакте   -139121250_17896    510436278_17982   \n",
       "21497       Вконтакте       -718901_3582     558639831_3603   \n",
       "\n",
       "                     Владелец  ID Владелеца  \\\n",
       "0           Валентин Точилкин       5412482   \n",
       "1              Денис Гончаров     308730199   \n",
       "2                  Олег Кирин      10784303   \n",
       "3             Замбек Замбеков     586953361   \n",
       "4      Александр Бирабиджанов      19496621   \n",
       "...                       ...           ...   \n",
       "21493         Алексей Рысаков        608612   \n",
       "21494              Red Kirill     514006271   \n",
       "21495           Владимир Прин     551359045   \n",
       "21496              Дима Асеев     510436278   \n",
       "21497        Алексей Павловец     558639831   \n",
       "\n",
       "                                                   Текст Эмоциональный окрас  \\\n",
       "0      Задумка понравилась! Думаю будет смотреться лу...       Нейтральность   \n",
       "1      Вам тоже здоровья и удачи в прошлом и крепкого...          Вежливость   \n",
       "2      Полагаю: Вера и Надежда – это тимлид и прожект...                Юмор   \n",
       "3                 этот интеллект на али давно существует       Нейтральность   \n",
       "4                                     Будет вечный Свет.       Нейтральность   \n",
       "...                                                  ...                 ...   \n",
       "21493  С мая месяца мурыжат с возвратом денег. Все за...             Негатив   \n",
       "21494                                         Нет войне!       Нейтральность   \n",
       "21495            Чот много смартфонов на винде я погляжу       Нейтральность   \n",
       "21496  На тот момент система была хорошей, и мне каже...       Нейтральность   \n",
       "21497  Мой сын ему 12 лет самостоятельно изучает JS. ...       Нейтральность   \n",
       "\n",
       "                      Дата  Лайков  \n",
       "0      2021-12-31 08:19:05       1  \n",
       "1      2021-12-31 07:09:40       9  \n",
       "2      2021-12-31 09:20:39       4  \n",
       "3      2021-12-31 20:38:00       1  \n",
       "4      2022-01-03 00:04:52       1  \n",
       "...                    ...     ...  \n",
       "21493  2021-12-08 19:23:12       1  \n",
       "21494  2022-03-01 14:40:12       0  \n",
       "21495  2021-09-05 19:02:41       0  \n",
       "21496  2021-09-05 19:06:47       8  \n",
       "21497  2021-09-10 20:28:53       0  \n",
       "\n",
       "[21498 rows x 9 columns]"
      ]
     },
     "execution_count": 7,
     "metadata": {},
     "output_type": "execute_result"
    }
   ],
   "source": [
    "com_df"
   ]
  },
  {
   "cell_type": "code",
   "execution_count": 8,
   "id": "acbb27d1",
   "metadata": {},
   "outputs": [
    {
     "name": "stdout",
     "output_type": "stream",
     "text": [
      "<class 'pandas.core.frame.DataFrame'>\n",
      "RangeIndex: 13630 entries, 0 to 13629\n",
      "Data columns (total 16 columns):\n",
      " #   Column                       Non-Null Count  Dtype  \n",
      "---  ------                       --------------  -----  \n",
      " 0   Социальная сеть              13630 non-null  object \n",
      " 1   ID поста                     13630 non-null  object \n",
      " 2   Владелец                     13630 non-null  object \n",
      " 3   Текст                        13630 non-null  object \n",
      " 4   Эмоциональный окрас          13630 non-null  object \n",
      " 5   Дата                         13630 non-null  object \n",
      " 6   Комментариев                 13630 non-null  int64  \n",
      " 7   Лайков                       13630 non-null  int64  \n",
      " 8   Репостов                     13630 non-null  int64  \n",
      " 9   Просмотров                   13593 non-null  float64\n",
      " 10  Негативных комментариев      13630 non-null  int64  \n",
      " 11  Позитивных комментариев      13630 non-null  int64  \n",
      " 12  Нейтральных комментариев     13630 non-null  int64  \n",
      " 13  Неопределенных комментариев  13630 non-null  int64  \n",
      " 14  Вежливых комментариев        13630 non-null  int64  \n",
      " 15  Юмористических комментариев  13630 non-null  int64  \n",
      "dtypes: float64(1), int64(9), object(6)\n",
      "memory usage: 1.7+ MB\n"
     ]
    }
   ],
   "source": [
    "rep_df.info()"
   ]
  },
  {
   "cell_type": "code",
   "execution_count": 9,
   "id": "dcc015cd",
   "metadata": {},
   "outputs": [
    {
     "name": "stdout",
     "output_type": "stream",
     "text": [
      "<class 'pandas.core.frame.DataFrame'>\n",
      "RangeIndex: 21498 entries, 0 to 21497\n",
      "Data columns (total 9 columns):\n",
      " #   Column               Non-Null Count  Dtype \n",
      "---  ------               --------------  ----- \n",
      " 0   Социальная сеть      21498 non-null  object\n",
      " 1   ID поста             21498 non-null  object\n",
      " 2   ID комментария       21498 non-null  object\n",
      " 3   Владелец             21498 non-null  object\n",
      " 4   ID Владелеца         21498 non-null  int64 \n",
      " 5   Текст                21497 non-null  object\n",
      " 6   Эмоциональный окрас  21498 non-null  object\n",
      " 7   Дата                 21498 non-null  object\n",
      " 8   Лайков               21498 non-null  int64 \n",
      "dtypes: int64(2), object(7)\n",
      "memory usage: 1.5+ MB\n"
     ]
    }
   ],
   "source": [
    "com_df.info()"
   ]
  },
  {
   "cell_type": "code",
   "execution_count": 10,
   "id": "c5b97f81",
   "metadata": {},
   "outputs": [],
   "source": [
    "mask= com_df['Текст'].isna()"
   ]
  },
  {
   "cell_type": "code",
   "execution_count": 11,
   "id": "12575976",
   "metadata": {},
   "outputs": [
    {
     "data": {
      "text/plain": [
       "[10440]"
      ]
     },
     "execution_count": 11,
     "metadata": {},
     "output_type": "execute_result"
    }
   ],
   "source": [
    "mask[mask == True].index.tolist()"
   ]
  },
  {
   "cell_type": "code",
   "execution_count": 12,
   "id": "816d462f",
   "metadata": {},
   "outputs": [],
   "source": [
    "com_df = com_df.drop(10440)"
   ]
  },
  {
   "cell_type": "code",
   "execution_count": 13,
   "id": "2701d63f",
   "metadata": {},
   "outputs": [],
   "source": [
    "rep= rep_df['Просмотров'].isna()"
   ]
  },
  {
   "cell_type": "code",
   "execution_count": 14,
   "id": "3148693a",
   "metadata": {},
   "outputs": [
    {
     "data": {
      "text/plain": [
       "[597,\n",
       " 1148,\n",
       " 1160,\n",
       " 1300,\n",
       " 1459,\n",
       " 2376,\n",
       " 2475,\n",
       " 2526,\n",
       " 3846,\n",
       " 4464,\n",
       " 4685,\n",
       " 5511,\n",
       " 5612,\n",
       " 5826,\n",
       " 6031,\n",
       " 6868,\n",
       " 6926,\n",
       " 7638,\n",
       " 7732,\n",
       " 7841,\n",
       " 8195,\n",
       " 8885,\n",
       " 9491,\n",
       " 9518,\n",
       " 9615,\n",
       " 10416,\n",
       " 10926,\n",
       " 11796,\n",
       " 12316,\n",
       " 12463,\n",
       " 12471,\n",
       " 12476,\n",
       " 12480,\n",
       " 12513,\n",
       " 13002,\n",
       " 13033,\n",
       " 13034]"
      ]
     },
     "execution_count": 14,
     "metadata": {},
     "output_type": "execute_result"
    }
   ],
   "source": [
    "rep[rep == True].index.tolist()"
   ]
  },
  {
   "cell_type": "code",
   "execution_count": 15,
   "id": "acfe0e88",
   "metadata": {},
   "outputs": [],
   "source": [
    "rep_df['Просмотров'] = rep_df['Просмотров'].fillna(0)"
   ]
  },
  {
   "cell_type": "code",
   "execution_count": null,
   "id": "44f5031c",
   "metadata": {},
   "outputs": [],
   "source": []
  },
  {
   "cell_type": "code",
   "execution_count": null,
   "id": "985feb05",
   "metadata": {},
   "outputs": [],
   "source": []
  },
  {
   "cell_type": "markdown",
   "id": "80bd54a7",
   "metadata": {},
   "source": [
    "## 2. Определить топ 10 биграмм в постах и топ 10 биграмм в комментариях."
   ]
  },
  {
   "cell_type": "markdown",
   "id": "e13ed065",
   "metadata": {},
   "source": [
    "Убираю все ссылки, знаки и слова, которые содержат меньше 3 букв из постов и комментариев "
   ]
  },
  {
   "cell_type": "code",
   "execution_count": 16,
   "id": "21f0b322",
   "metadata": {},
   "outputs": [],
   "source": [
    "rep_df['Текст'] = rep_df['Текст'].apply(lambda x: re.sub(r'http\\S+', '', x))\n",
    "com_df['Текст'] = com_df['Текст'].apply(lambda x: re.sub(r'http\\S+', '', x))"
   ]
  },
  {
   "cell_type": "code",
   "execution_count": 17,
   "id": "7b6bae8e",
   "metadata": {},
   "outputs": [],
   "source": [
    "rep_df['Текст'] = rep_df['Текст'].replace('-', ' ', regex= True)\n",
    "com_df['Текст'] = com_df['Текст'].replace('-', ' ', regex= True)"
   ]
  },
  {
   "cell_type": "code",
   "execution_count": 18,
   "id": "423bc7f1",
   "metadata": {},
   "outputs": [],
   "source": [
    "com_df['Текст'] = com_df['Текст'].apply(lambda x: re.sub(r'[^a-zA-Zа-яА-Я\\s]', '', x))\n",
    "com_df['Текст'] = com_df['Текст'].apply(lambda x: re.sub(r'\\b\\w{1,3}\\b', '', x))"
   ]
  },
  {
   "cell_type": "code",
   "execution_count": 19,
   "id": "cdd1d2ff",
   "metadata": {},
   "outputs": [
    {
     "name": "stdout",
     "output_type": "stream",
     "text": [
      "[(('моей', 'ссылке'), 288), (('бесплатным', 'обслуживанием'), 239), (('обслуживанием', 'навсегда'), 199), (('бесплатное', 'обслуживание'), 148), (('блэк', 'бесплатным'), 141), (('Тинькофф', 'блэк'), 138), (('Добрый', 'день'), 133), (('ссылке', 'получи'), 132), (('месяца', 'подписки'), 129), (('карты', 'бесплатно'), 126)]\n"
     ]
    }
   ],
   "source": [
    "# Создание списка биграмм для каждого текста\n",
    "com_df['bigrams'] = com_df['Текст'].apply(lambda x: list(bigrams(nltk.word_tokenize(x))))\n",
    "\n",
    "# Объединение всех биграмм в список\n",
    "all_bigrams = [bigram for bigram_list in com_df['bigrams'] for bigram in bigram_list]\n",
    "\n",
    "# Подсчет частотности каждой биграммы\n",
    "freq_dist = FreqDist(all_bigrams)\n",
    "\n",
    "# Вывод топ-10 биграмм\n",
    "top_10_bigrams = freq_dist.most_common(10)\n",
    "print(top_10_bigrams)"
   ]
  },
  {
   "cell_type": "code",
   "execution_count": 20,
   "id": "88b3db7b",
   "metadata": {},
   "outputs": [
    {
     "name": "stdout",
     "output_type": "stream",
     "text": [
      "                             Comments\n",
      "0               ((моей, ссылке), 288)\n",
      "1  ((бесплатным, обслуживанием), 239)\n",
      "2    ((обслуживанием, навсегда), 199)\n",
      "3   ((бесплатное, обслуживание), 148)\n",
      "4           ((блэк, бесплатным), 141)\n",
      "5             ((Тинькофф, блэк), 138)\n",
      "6               ((Добрый, день), 133)\n",
      "7             ((ссылке, получи), 132)\n",
      "8           ((месяца, подписки), 129)\n",
      "9           ((карты, бесплатно), 126)\n"
     ]
    }
   ],
   "source": [
    "top_10_comments = pd.DataFrame({'Comments': top_10_bigrams})\n",
    "print(top_10_comments)"
   ]
  },
  {
   "cell_type": "code",
   "execution_count": null,
   "id": "c17b4019",
   "metadata": {},
   "outputs": [],
   "source": []
  },
  {
   "cell_type": "code",
   "execution_count": null,
   "id": "14f66f48",
   "metadata": {},
   "outputs": [],
   "source": []
  },
  {
   "cell_type": "code",
   "execution_count": 21,
   "id": "45ff8d0f",
   "metadata": {},
   "outputs": [],
   "source": [
    "rep_df['Текст'] = rep_df['Текст'].apply(lambda x: re.sub(r'[^a-zA-Zа-яА-Я\\s]', '', x))\n",
    "rep_df['Текст'] = rep_df['Текст'].apply(lambda x: re.sub(r'\\b\\w{1,3}\\b', '', x))"
   ]
  },
  {
   "cell_type": "code",
   "execution_count": 22,
   "id": "b88d29ba",
   "metadata": {},
   "outputs": [
    {
     "name": "stdout",
     "output_type": "stream",
     "text": [
      "[(('Технополис', 'Москва'), 302), (('этом', 'году'), 252), (('информационной', 'безопасности'), 214), (('многое', 'другое'), 199), (('принять', 'участие'), 198), (('Blockchain', 'Life'), 196), (('Data', 'Science'), 194), (('может', 'быть'), 162), (('нашем', 'сайте'), 161), (('Количество', 'страниц'), 155)]\n"
     ]
    }
   ],
   "source": [
    "# Создание списка биграмм для каждого текста\n",
    "rep_df['bigrams'] = rep_df['Текст'].apply(lambda x: list(bigrams(nltk.word_tokenize(x))))\n",
    "\n",
    "# Объединение всех биграмм в список\n",
    "bigrams_rep = [bigram for bigram_list in rep_df['bigrams'] for bigram in bigram_list]\n",
    "\n",
    "# Подсчет частотности каждой биграммы\n",
    "rep_dist = FreqDist(bigrams_rep)\n",
    "\n",
    "# Вывод топ-10 биграмм\n",
    "top_10_bigrams_rep = rep_dist.most_common(10)\n",
    "print(top_10_bigrams_rep)"
   ]
  },
  {
   "cell_type": "code",
   "execution_count": 23,
   "id": "17d3b31c",
   "metadata": {},
   "outputs": [
    {
     "name": "stdout",
     "output_type": "stream",
     "text": [
      "                                   Posts\n",
      "0            ((Технополис, Москва), 302)\n",
      "1                    ((этом, году), 252)\n",
      "2  ((информационной, безопасности), 214)\n",
      "3                ((многое, другое), 199)\n",
      "4              ((принять, участие), 198)\n",
      "5              ((Blockchain, Life), 196)\n",
      "6                 ((Data, Science), 194)\n",
      "7                   ((может, быть), 162)\n",
      "8                  ((нашем, сайте), 161)\n",
      "9           ((Количество, страниц), 155)\n"
     ]
    }
   ],
   "source": [
    "top_10_posts = pd.DataFrame({'Posts': top_10_bigrams_rep})\n",
    "\n",
    "print(top_10_posts)"
   ]
  },
  {
   "cell_type": "markdown",
   "id": "bb1f3dfb",
   "metadata": {},
   "source": [
    "\n",
    "## 1. Определить 3 поста с самой сильной и 3 поста с самой слабой мерой связи окраса поста с окрасом его комментариев. Обосновать методику расчета силы связи."
   ]
  },
  {
   "cell_type": "markdown",
   "id": "cee3f622",
   "metadata": {},
   "source": [
    "а не. тут всё можно по 1 таблице смотреть. куз_ва имеет столбец с эмоциональным окрасом поста и комментариев"
   ]
  },
  {
   "cell_type": "code",
   "execution_count": 24,
   "id": "0f47b521",
   "metadata": {},
   "outputs": [],
   "source": [
    "#rep_df"
   ]
  },
  {
   "cell_type": "code",
   "execution_count": 25,
   "id": "bdf91382",
   "metadata": {},
   "outputs": [],
   "source": [
    "#rep_df[\"Эмоциональный окрас\"].unique()"
   ]
  },
  {
   "cell_type": "code",
   "execution_count": 26,
   "id": "ba0f659e",
   "metadata": {},
   "outputs": [],
   "source": [
    "# вычисляем долю каждого вида комментариев для каждого поста\n",
    "#rep_df['negative'] = rep_df['Негативных комментариев'] / rep_df['Комментариев']\n",
    "#rep_df['positive'] = rep_df['Позитивных комментариев'] / rep_df['Комментариев']\n",
    "#rep_df['neutral'] = rep_df['Нейтральных комментариев'] / rep_df['Комментариев']\n",
    "#rep_df['undefined'] = rep_df['Неопределенных комментариев'] / rep_df['Комментариев']\n",
    "#rep_df['polite'] = rep_df['Вежливых комментариев'] / rep_df['Комментариев']\n",
    "#rep_df['humor'] = rep_df['Юмористических комментариев'] / rep_df['Комментариев']\n"
   ]
  },
  {
   "cell_type": "code",
   "execution_count": 27,
   "id": "3ba11168",
   "metadata": {},
   "outputs": [],
   "source": [
    "#rep_df['sentiment_score'] = rep_df['negative']*rep_df['Негативных комментариев'] + rep_df['positive']*rep_df['Позитивных комментариев'] + rep_df['neutral']*rep_df['Нейтральных комментариев'] + rep_df['undefined']*rep_df['Неопределенных комментариев'] + rep_df['polite']*rep_df['Вежливых комментариев'] + rep_df['humor']*rep_df['Юмористических комментариев']"
   ]
  },
  {
   "cell_type": "code",
   "execution_count": 28,
   "id": "cebb1e5a",
   "metadata": {},
   "outputs": [],
   "source": [
    "#rep_df['sentiment_score']"
   ]
  },
  {
   "cell_type": "code",
   "execution_count": 29,
   "id": "4bb14e54",
   "metadata": {},
   "outputs": [],
   "source": [
    "#rep_df['sentiment_score'].unique()"
   ]
  },
  {
   "cell_type": "code",
   "execution_count": 30,
   "id": "7c3bae67",
   "metadata": {},
   "outputs": [],
   "source": [
    "#top_values = rep_df['sentiment_score'].value_counts().head(10)\n",
    "#print(top_values)"
   ]
  },
  {
   "cell_type": "code",
   "execution_count": 31,
   "id": "ccfa53fb",
   "metadata": {},
   "outputs": [],
   "source": [
    "#print(rep_df.iloc[938][\"Эмоциональный окрас\"], rep_df.iloc[320][\"Эмоциональный окрас\"], rep_df.iloc[115][\"Эмоциональный окрас\"], rep_df.iloc[92][\"Эмоциональный окрас\"], rep_df.iloc[84][\"Эмоциональный окрас\"])\n",
    "           # rep_df.iloc[59][\"Эмоциональный окрас\"]\n",
    "          #  rep_df.iloc[53][\"Эмоциональный окрас\"]\n",
    "         #   rep_df.iloc[43][\"Эмоциональный окрас\"]\n",
    "           # rep_df.iloc[37][\"Эмоциональный окрас\"]\n",
    "          #  rep_df.iloc[32][\"Эмоциональный окрас\"])"
   ]
  },
  {
   "cell_type": "code",
   "execution_count": 32,
   "id": "a89e9359",
   "metadata": {},
   "outputs": [
    {
     "data": {
      "text/plain": [
       "Социальная сеть                False\n",
       "ID поста                       False\n",
       "Владелец                       False\n",
       "Текст                          False\n",
       "Эмоциональный окрас            False\n",
       "Дата                           False\n",
       "Комментариев                   False\n",
       "Лайков                         False\n",
       "Репостов                       False\n",
       "Просмотров                     False\n",
       "Негативных комментариев        False\n",
       "Позитивных комментариев        False\n",
       "Нейтральных комментариев       False\n",
       "Неопределенных комментариев    False\n",
       "Вежливых комментариев          False\n",
       "Юмористических комментариев    False\n",
       "bigrams                        False\n",
       "dtype: bool"
      ]
     },
     "execution_count": 32,
     "metadata": {},
     "output_type": "execute_result"
    }
   ],
   "source": [
    "rep_df.isnull().any()"
   ]
  },
  {
   "cell_type": "code",
   "execution_count": 33,
   "id": "19adb424",
   "metadata": {
    "scrolled": false
   },
   "outputs": [],
   "source": [
    "mapping = {'Нейтральность': 0, 'Негатив': 1, 'Позитив': 2, 'Юмор': 3, 'Вежливость': 4, 'Неопределенность': 5}\n",
    "rep_df['emotion_code'] = rep_df['Эмоциональный окрас'].map(mapping)"
   ]
  },
  {
   "cell_type": "code",
   "execution_count": 34,
   "id": "4bf23fd4",
   "metadata": {},
   "outputs": [
    {
     "name": "stdout",
     "output_type": "stream",
     "text": [
      "Toп-3 поста с сильной связью :\n",
      "          Владелец                Текст\n",
      "3253        ZBrush              Репост \n",
      "10787  ArtCraft CG  ArtCraftInspiration\n",
      "1379     Kaspersky                     \n",
      "Correlation coefficients: []\n",
      "\n",
      "Toп-3 поста со слабой связью :\n",
      "                                       Владелец  \\\n",
      "0                    FSOCIETY | IT - сообщество   \n",
      "7394        Форум Blockchain Life 2022 | Москва   \n",
      "7391  HolyJS — конференция для JS-разработчиков   \n",
      "\n",
      "                                                  Текст  \n",
      "0      задают много вопросов  технологическом конкур...  \n",
      "7394   SOLD   AfterParty\\n\\nЛегендарная вечеринка со...  \n",
      "7391    есть фундаментальная проблема   когда сущнос...  \n",
      "Correlation coefficients: []\n"
     ]
    }
   ],
   "source": [
    "#Корреляционный коэффициент между всеми столбцами\n",
    "corr = rep_df[['Негативных комментариев', 'Позитивных комментариев', 'Нейтральных комментариев', \n",
    "               'Неопределенных комментариев', 'Вежливых комментариев', 'Юмористических комментариев','emotion_code']].corr()\n",
    "\n",
    "# Корр коэф между эмоциональным окрасом и типами комментариев\n",
    "corr_values = [(emotion, corr.loc['emotion_code'][emotion]) for emotion in corr.columns[:-1]]\n",
    "\n",
    "\n",
    "#Сортировка \n",
    "top_3_strongest = rep_df.sort_values('emotion_code', ascending=False).head(3)[['Владелец', 'Текст']]\n",
    "top_3_strongest_corr = [corr_val for corr_val in corr_values if corr_val[0] in top_3_strongest.columns]\n",
    "print(f'Toп-3 поста с сильной связью :\\n{top_3_strongest}\\nCorrelation coefficients: {top_3_strongest_corr}')\n",
    "\n",
    "\n",
    "# Сортировка\n",
    "top_3_weakest = rep_df.sort_values('emotion_code', ascending=True).head(3)[['Владелец', 'Текст']]\n",
    "top_3_weakest_corr = [corr_val for corr_val in corr_values if corr_val[0] in top_3_weakest.columns]\n",
    "print(f'\\nToп-3 поста со слабой связью :\\n{top_3_weakest}\\nCorrelation coefficients: {top_3_weakest_corr}')\n"
   ]
  },
  {
   "cell_type": "markdown",
   "id": "a1ad88f6",
   "metadata": {},
   "source": [
    "## 3. построить прогноз суммарного количества просмотров постов по дням на 1 месяц вперед. Оценить качество прогнозной модели."
   ]
  },
  {
   "cell_type": "markdown",
   "id": "a3f2bb74",
   "metadata": {},
   "source": [
    "Prophet:\n",
    "$y(t) = g(t) + s(t) + h(t) + \\epsilon_{t}$\n",
    "- g(t) - тренд \n",
    "- s(t) - сезонная компонента\n",
    "- h(t) - аномальные дни\n",
    "- $\\epsilon_{t}$ - шум"
   ]
  },
  {
   "cell_type": "markdown",
   "id": "afb3d5f8",
   "metadata": {},
   "source": [
    "Убираю из даты время, преобразую просмотры в инты, новый фрейм только с датой и просмотрами"
   ]
  },
  {
   "cell_type": "code",
   "execution_count": 36,
   "id": "593bb602",
   "metadata": {},
   "outputs": [
    {
     "name": "stderr",
     "output_type": "stream",
     "text": [
      "/var/folders/rs/fkk70l394gz79cxj0sdr_spc0000gn/T/ipykernel_17296/1682139071.py:2: SettingWithCopyWarning: \n",
      "A value is trying to be set on a copy of a slice from a DataFrame.\n",
      "Try using .loc[row_indexer,col_indexer] = value instead\n",
      "\n",
      "See the caveats in the documentation: https://pandas.pydata.org/pandas-docs/stable/user_guide/indexing.html#returning-a-view-versus-a-copy\n",
      "  df.Дата = df.Дата.apply(lambda x: x[:10])\n",
      "/var/folders/rs/fkk70l394gz79cxj0sdr_spc0000gn/T/ipykernel_17296/1682139071.py:3: SettingWithCopyWarning: \n",
      "A value is trying to be set on a copy of a slice from a DataFrame.\n",
      "Try using .loc[row_indexer,col_indexer] = value instead\n",
      "\n",
      "See the caveats in the documentation: https://pandas.pydata.org/pandas-docs/stable/user_guide/indexing.html#returning-a-view-versus-a-copy\n",
      "  df.Просмотров = df.Просмотров.apply(lambda x: int(x))\n"
     ]
    }
   ],
   "source": [
    "df=rep_df[['Дата', 'Просмотров']]\n",
    "df.Дата = df.Дата.apply(lambda x: x[:10])\n",
    "df.Просмотров = df.Просмотров.apply(lambda x: int(x))"
   ]
  },
  {
   "cell_type": "code",
   "execution_count": 37,
   "id": "ae40c013",
   "metadata": {},
   "outputs": [
    {
     "data": {
      "text/html": [
       "<div>\n",
       "<style scoped>\n",
       "    .dataframe tbody tr th:only-of-type {\n",
       "        vertical-align: middle;\n",
       "    }\n",
       "\n",
       "    .dataframe tbody tr th {\n",
       "        vertical-align: top;\n",
       "    }\n",
       "\n",
       "    .dataframe thead th {\n",
       "        text-align: right;\n",
       "    }\n",
       "</style>\n",
       "<table border=\"1\" class=\"dataframe\">\n",
       "  <thead>\n",
       "    <tr style=\"text-align: right;\">\n",
       "      <th></th>\n",
       "      <th>Дата</th>\n",
       "      <th>Просмотров</th>\n",
       "    </tr>\n",
       "  </thead>\n",
       "  <tbody>\n",
       "    <tr>\n",
       "      <th>0</th>\n",
       "      <td>2021-12-31</td>\n",
       "      <td>3548</td>\n",
       "    </tr>\n",
       "    <tr>\n",
       "      <th>1</th>\n",
       "      <td>2021-12-31</td>\n",
       "      <td>346</td>\n",
       "    </tr>\n",
       "    <tr>\n",
       "      <th>2</th>\n",
       "      <td>2021-12-31</td>\n",
       "      <td>319</td>\n",
       "    </tr>\n",
       "    <tr>\n",
       "      <th>3</th>\n",
       "      <td>2021-12-31</td>\n",
       "      <td>222</td>\n",
       "    </tr>\n",
       "    <tr>\n",
       "      <th>4</th>\n",
       "      <td>2021-12-31</td>\n",
       "      <td>3956</td>\n",
       "    </tr>\n",
       "    <tr>\n",
       "      <th>...</th>\n",
       "      <td>...</td>\n",
       "      <td>...</td>\n",
       "    </tr>\n",
       "    <tr>\n",
       "      <th>13625</th>\n",
       "      <td>2021-09-01</td>\n",
       "      <td>3430</td>\n",
       "    </tr>\n",
       "    <tr>\n",
       "      <th>13626</th>\n",
       "      <td>2021-09-01</td>\n",
       "      <td>160</td>\n",
       "    </tr>\n",
       "    <tr>\n",
       "      <th>13627</th>\n",
       "      <td>2021-09-01</td>\n",
       "      <td>66</td>\n",
       "    </tr>\n",
       "    <tr>\n",
       "      <th>13628</th>\n",
       "      <td>2021-09-01</td>\n",
       "      <td>896</td>\n",
       "    </tr>\n",
       "    <tr>\n",
       "      <th>13629</th>\n",
       "      <td>2021-09-01</td>\n",
       "      <td>810</td>\n",
       "    </tr>\n",
       "  </tbody>\n",
       "</table>\n",
       "<p>13630 rows × 2 columns</p>\n",
       "</div>"
      ],
      "text/plain": [
       "             Дата  Просмотров\n",
       "0      2021-12-31        3548\n",
       "1      2021-12-31         346\n",
       "2      2021-12-31         319\n",
       "3      2021-12-31         222\n",
       "4      2021-12-31        3956\n",
       "...           ...         ...\n",
       "13625  2021-09-01        3430\n",
       "13626  2021-09-01         160\n",
       "13627  2021-09-01          66\n",
       "13628  2021-09-01         896\n",
       "13629  2021-09-01         810\n",
       "\n",
       "[13630 rows x 2 columns]"
      ]
     },
     "execution_count": 37,
     "metadata": {},
     "output_type": "execute_result"
    }
   ],
   "source": [
    "df"
   ]
  },
  {
   "cell_type": "code",
   "execution_count": 38,
   "id": "b052383e",
   "metadata": {},
   "outputs": [
    {
     "name": "stdout",
     "output_type": "stream",
     "text": [
      "<class 'pandas.core.frame.DataFrame'>\n",
      "RangeIndex: 13630 entries, 0 to 13629\n",
      "Data columns (total 2 columns):\n",
      " #   Column      Non-Null Count  Dtype \n",
      "---  ------      --------------  ----- \n",
      " 0   Дата        13630 non-null  object\n",
      " 1   Просмотров  13630 non-null  int64 \n",
      "dtypes: int64(1), object(1)\n",
      "memory usage: 213.1+ KB\n"
     ]
    }
   ],
   "source": [
    "df.info()"
   ]
  },
  {
   "cell_type": "markdown",
   "id": "9f76f3bd",
   "metadata": {},
   "source": [
    "собираю одинаковые даты вместе"
   ]
  },
  {
   "cell_type": "code",
   "execution_count": 39,
   "id": "baf39c7c",
   "metadata": {},
   "outputs": [],
   "source": [
    "date = {}\n",
    "for index, row in df.iterrows():\n",
    "    if row['Дата'] in date:\n",
    "        date[row['Дата']] += row['Просмотров']\n",
    "    else:\n",
    "        date[row['Дата']] = row['Просмотров']"
   ]
  },
  {
   "cell_type": "code",
   "execution_count": 40,
   "id": "04fb983a",
   "metadata": {},
   "outputs": [],
   "source": [
    "df = pd.DataFrame(date.items(), columns=['Дата', 'Просмотров'])\n",
    "df = df.sort_values('Дата')\n"
   ]
  },
  {
   "cell_type": "code",
   "execution_count": 41,
   "id": "edfb9101",
   "metadata": {},
   "outputs": [],
   "source": [
    "df = df.rename(columns={\"Дата\": \"ds\", \"Просмотров\": \"y\"})"
   ]
  },
  {
   "cell_type": "code",
   "execution_count": 42,
   "id": "52fe1837",
   "metadata": {},
   "outputs": [],
   "source": [
    "df.ds = df.ds.apply(lambda x: pd.to_datetime(x[:10], format='%Y-%m-%d'))\n",
    "train = df[df.ds < pd.to_datetime(\"2021-12-01\", format='%Y-%m-%d')]\n",
    "test = df[df.ds >= pd.to_datetime(\"2021-12-01\", format='%Y-%m-%d')]"
   ]
  },
  {
   "cell_type": "code",
   "execution_count": 43,
   "id": "6ee0f3af",
   "metadata": {},
   "outputs": [
    {
     "data": {
      "image/png": "[encoded data removed]",
      "text/plain": [
       "<Figure size 640x480 with 1 Axes>"
      ]
     },
     "metadata": {},
     "output_type": "display_data"
    }
   ],
   "source": [
    "plot = df.plot(x=\"ds\", y=\"y\", label=\"Исходные данные\")"
   ]
  },
  {
   "cell_type": "code",
   "execution_count": 44,
   "id": "81fbfa55",
   "metadata": {},
   "outputs": [],
   "source": [
    "from prophet import Prophet"
   ]
  },
  {
   "cell_type": "code",
   "execution_count": null,
   "id": "0d7711c6",
   "metadata": {},
   "outputs": [],
   "source": []
  },
  {
   "cell_type": "code",
   "execution_count": 45,
   "id": "c05127ec",
   "metadata": {},
   "outputs": [],
   "source": [
    "#predict=30\n",
    "#train_df = df[:-pred] "
   ]
  },
  {
   "cell_type": "code",
   "execution_count": 46,
   "id": "8a78184a",
   "metadata": {
    "scrolled": true
   },
   "outputs": [],
   "source": [
    "#m = Prophet()\n",
    "#m.fit(train_df)"
   ]
  },
  {
   "cell_type": "code",
   "execution_count": 47,
   "id": "fad40ca7",
   "metadata": {},
   "outputs": [],
   "source": [
    "#future = m.make_future_dataframe(periods=predict)\n",
    "#forecast = m.predict(future)"
   ]
  },
  {
   "cell_type": "code",
   "execution_count": 49,
   "id": "c3b392bc",
   "metadata": {},
   "outputs": [
    {
     "data": {
      "text/html": [
       "<div>\n",
       "<style scoped>\n",
       "    .dataframe tbody tr th:only-of-type {\n",
       "        vertical-align: middle;\n",
       "    }\n",
       "\n",
       "    .dataframe tbody tr th {\n",
       "        vertical-align: top;\n",
       "    }\n",
       "\n",
       "    .dataframe thead th {\n",
       "        text-align: right;\n",
       "    }\n",
       "</style>\n",
       "<table border=\"1\" class=\"dataframe\">\n",
       "  <thead>\n",
       "    <tr style=\"text-align: right;\">\n",
       "      <th></th>\n",
       "      <th>ds</th>\n",
       "      <th>y</th>\n",
       "    </tr>\n",
       "  </thead>\n",
       "  <tbody>\n",
       "    <tr>\n",
       "      <th>121</th>\n",
       "      <td>2021-09-01</td>\n",
       "      <td>1542779</td>\n",
       "    </tr>\n",
       "    <tr>\n",
       "      <th>120</th>\n",
       "      <td>2021-09-02</td>\n",
       "      <td>820271</td>\n",
       "    </tr>\n",
       "    <tr>\n",
       "      <th>119</th>\n",
       "      <td>2021-09-03</td>\n",
       "      <td>1958340</td>\n",
       "    </tr>\n",
       "    <tr>\n",
       "      <th>118</th>\n",
       "      <td>2021-09-04</td>\n",
       "      <td>133318</td>\n",
       "    </tr>\n",
       "    <tr>\n",
       "      <th>117</th>\n",
       "      <td>2021-09-05</td>\n",
       "      <td>194381</td>\n",
       "    </tr>\n",
       "    <tr>\n",
       "      <th>...</th>\n",
       "      <td>...</td>\n",
       "      <td>...</td>\n",
       "    </tr>\n",
       "    <tr>\n",
       "      <th>4</th>\n",
       "      <td>2021-12-27</td>\n",
       "      <td>716678</td>\n",
       "    </tr>\n",
       "    <tr>\n",
       "      <th>3</th>\n",
       "      <td>2021-12-28</td>\n",
       "      <td>780446</td>\n",
       "    </tr>\n",
       "    <tr>\n",
       "      <th>2</th>\n",
       "      <td>2021-12-29</td>\n",
       "      <td>816734</td>\n",
       "    </tr>\n",
       "    <tr>\n",
       "      <th>1</th>\n",
       "      <td>2021-12-30</td>\n",
       "      <td>5230248</td>\n",
       "    </tr>\n",
       "    <tr>\n",
       "      <th>0</th>\n",
       "      <td>2021-12-31</td>\n",
       "      <td>79657</td>\n",
       "    </tr>\n",
       "  </tbody>\n",
       "</table>\n",
       "<p>122 rows × 2 columns</p>\n",
       "</div>"
      ],
      "text/plain": [
       "            ds        y\n",
       "121 2021-09-01  1542779\n",
       "120 2021-09-02   820271\n",
       "119 2021-09-03  1958340\n",
       "118 2021-09-04   133318\n",
       "117 2021-09-05   194381\n",
       "..         ...      ...\n",
       "4   2021-12-27   716678\n",
       "3   2021-12-28   780446\n",
       "2   2021-12-29   816734\n",
       "1   2021-12-30  5230248\n",
       "0   2021-12-31    79657\n",
       "\n",
       "[122 rows x 2 columns]"
      ]
     },
     "execution_count": 49,
     "metadata": {},
     "output_type": "execute_result"
    }
   ],
   "source": [
    "df"
   ]
  },
  {
   "cell_type": "code",
   "execution_count": 50,
   "id": "cbdedcbf",
   "metadata": {},
   "outputs": [
    {
     "data": {
      "text/html": [
       "<div>\n",
       "<style scoped>\n",
       "    .dataframe tbody tr th:only-of-type {\n",
       "        vertical-align: middle;\n",
       "    }\n",
       "\n",
       "    .dataframe tbody tr th {\n",
       "        vertical-align: top;\n",
       "    }\n",
       "\n",
       "    .dataframe thead th {\n",
       "        text-align: right;\n",
       "    }\n",
       "</style>\n",
       "<table border=\"1\" class=\"dataframe\">\n",
       "  <thead>\n",
       "    <tr style=\"text-align: right;\">\n",
       "      <th></th>\n",
       "      <th>ds</th>\n",
       "      <th>y</th>\n",
       "    </tr>\n",
       "  </thead>\n",
       "  <tbody>\n",
       "    <tr>\n",
       "      <th>121</th>\n",
       "      <td>2021-09-01</td>\n",
       "      <td>1542779</td>\n",
       "    </tr>\n",
       "    <tr>\n",
       "      <th>120</th>\n",
       "      <td>2021-09-02</td>\n",
       "      <td>820271</td>\n",
       "    </tr>\n",
       "    <tr>\n",
       "      <th>119</th>\n",
       "      <td>2021-09-03</td>\n",
       "      <td>1958340</td>\n",
       "    </tr>\n",
       "    <tr>\n",
       "      <th>118</th>\n",
       "      <td>2021-09-04</td>\n",
       "      <td>133318</td>\n",
       "    </tr>\n",
       "    <tr>\n",
       "      <th>117</th>\n",
       "      <td>2021-09-05</td>\n",
       "      <td>194381</td>\n",
       "    </tr>\n",
       "    <tr>\n",
       "      <th>...</th>\n",
       "      <td>...</td>\n",
       "      <td>...</td>\n",
       "    </tr>\n",
       "    <tr>\n",
       "      <th>35</th>\n",
       "      <td>2021-11-26</td>\n",
       "      <td>3102422</td>\n",
       "    </tr>\n",
       "    <tr>\n",
       "      <th>34</th>\n",
       "      <td>2021-11-27</td>\n",
       "      <td>550679</td>\n",
       "    </tr>\n",
       "    <tr>\n",
       "      <th>33</th>\n",
       "      <td>2021-11-28</td>\n",
       "      <td>500633</td>\n",
       "    </tr>\n",
       "    <tr>\n",
       "      <th>32</th>\n",
       "      <td>2021-11-29</td>\n",
       "      <td>784899</td>\n",
       "    </tr>\n",
       "    <tr>\n",
       "      <th>31</th>\n",
       "      <td>2021-11-30</td>\n",
       "      <td>893276</td>\n",
       "    </tr>\n",
       "  </tbody>\n",
       "</table>\n",
       "<p>91 rows × 2 columns</p>\n",
       "</div>"
      ],
      "text/plain": [
       "            ds        y\n",
       "121 2021-09-01  1542779\n",
       "120 2021-09-02   820271\n",
       "119 2021-09-03  1958340\n",
       "118 2021-09-04   133318\n",
       "117 2021-09-05   194381\n",
       "..         ...      ...\n",
       "35  2021-11-26  3102422\n",
       "34  2021-11-27   550679\n",
       "33  2021-11-28   500633\n",
       "32  2021-11-29   784899\n",
       "31  2021-11-30   893276\n",
       "\n",
       "[91 rows x 2 columns]"
      ]
     },
     "execution_count": 50,
     "metadata": {},
     "output_type": "execute_result"
    }
   ],
   "source": [
    "train.sort_values('ds')"
   ]
  },
  {
   "cell_type": "code",
   "execution_count": 51,
   "id": "c7e3121b",
   "metadata": {},
   "outputs": [],
   "source": [
    "train_out = train.query('y <= 1000000')"
   ]
  },
  {
   "cell_type": "code",
   "execution_count": 52,
   "id": "a73421eb",
   "metadata": {},
   "outputs": [],
   "source": [
    "test_out = test.query('y <= 1000000')"
   ]
  },
  {
   "cell_type": "code",
   "execution_count": 53,
   "id": "13a121a7",
   "metadata": {},
   "outputs": [
    {
     "name": "stderr",
     "output_type": "stream",
     "text": [
      "15:42:03 - cmdstanpy - INFO - Chain [1] start processing\n",
      "15:42:04 - cmdstanpy - INFO - Chain [1] done processing\n"
     ]
    }
   ],
   "source": [
    "model = Prophet()\n",
    "model.fit(train)\n",
    "pred = model.predict(test)"
   ]
  },
  {
   "cell_type": "code",
   "execution_count": 54,
   "id": "456e5b1b",
   "metadata": {},
   "outputs": [
    {
     "data": {
      "text/html": [
       "<div>\n",
       "<style scoped>\n",
       "    .dataframe tbody tr th:only-of-type {\n",
       "        vertical-align: middle;\n",
       "    }\n",
       "\n",
       "    .dataframe tbody tr th {\n",
       "        vertical-align: top;\n",
       "    }\n",
       "\n",
       "    .dataframe thead th {\n",
       "        text-align: right;\n",
       "    }\n",
       "</style>\n",
       "<table border=\"1\" class=\"dataframe\">\n",
       "  <thead>\n",
       "    <tr style=\"text-align: right;\">\n",
       "      <th></th>\n",
       "      <th>ds</th>\n",
       "      <th>y</th>\n",
       "    </tr>\n",
       "  </thead>\n",
       "  <tbody>\n",
       "    <tr>\n",
       "      <th>121</th>\n",
       "      <td>2021-09-01</td>\n",
       "      <td>1542779</td>\n",
       "    </tr>\n",
       "    <tr>\n",
       "      <th>120</th>\n",
       "      <td>2021-09-02</td>\n",
       "      <td>820271</td>\n",
       "    </tr>\n",
       "    <tr>\n",
       "      <th>119</th>\n",
       "      <td>2021-09-03</td>\n",
       "      <td>1958340</td>\n",
       "    </tr>\n",
       "    <tr>\n",
       "      <th>118</th>\n",
       "      <td>2021-09-04</td>\n",
       "      <td>133318</td>\n",
       "    </tr>\n",
       "    <tr>\n",
       "      <th>117</th>\n",
       "      <td>2021-09-05</td>\n",
       "      <td>194381</td>\n",
       "    </tr>\n",
       "    <tr>\n",
       "      <th>...</th>\n",
       "      <td>...</td>\n",
       "      <td>...</td>\n",
       "    </tr>\n",
       "    <tr>\n",
       "      <th>4</th>\n",
       "      <td>2021-12-27</td>\n",
       "      <td>716678</td>\n",
       "    </tr>\n",
       "    <tr>\n",
       "      <th>3</th>\n",
       "      <td>2021-12-28</td>\n",
       "      <td>780446</td>\n",
       "    </tr>\n",
       "    <tr>\n",
       "      <th>2</th>\n",
       "      <td>2021-12-29</td>\n",
       "      <td>816734</td>\n",
       "    </tr>\n",
       "    <tr>\n",
       "      <th>1</th>\n",
       "      <td>2021-12-30</td>\n",
       "      <td>5230248</td>\n",
       "    </tr>\n",
       "    <tr>\n",
       "      <th>0</th>\n",
       "      <td>2021-12-31</td>\n",
       "      <td>79657</td>\n",
       "    </tr>\n",
       "  </tbody>\n",
       "</table>\n",
       "<p>122 rows × 2 columns</p>\n",
       "</div>"
      ],
      "text/plain": [
       "            ds        y\n",
       "121 2021-09-01  1542779\n",
       "120 2021-09-02   820271\n",
       "119 2021-09-03  1958340\n",
       "118 2021-09-04   133318\n",
       "117 2021-09-05   194381\n",
       "..         ...      ...\n",
       "4   2021-12-27   716678\n",
       "3   2021-12-28   780446\n",
       "2   2021-12-29   816734\n",
       "1   2021-12-30  5230248\n",
       "0   2021-12-31    79657\n",
       "\n",
       "[122 rows x 2 columns]"
      ]
     },
     "execution_count": 54,
     "metadata": {},
     "output_type": "execute_result"
    }
   ],
   "source": [
    "df"
   ]
  },
  {
   "cell_type": "code",
   "execution_count": 62,
   "id": "ec661037",
   "metadata": {},
   "outputs": [
    {
     "data": {
      "image/png": "[encoded data removed]",
      "text/plain": [
       "<Figure size 640x480 with 1 Axes>"
      ]
     },
     "metadata": {},
     "output_type": "display_data"
    }
   ],
   "source": [
    "ax = pred.plot(x=\"ds\", y=\"yhat\", label=\"Предсказание\", color=\"red\", linestyle=\"--\")\n",
    "test.plot(x=\"ds\", y=\"y\", ax=ax, label=\"Исходные данные\", color=\"green\")\n",
    "plt.xlabel(\"Дата\")\n",
    "plt.ylabel(\"Значение\")\n",
    "plt.title(\"Прогноз на декабрь\")\n",
    "plt.legend()\n",
    "plt.show()"
   ]
  },
  {
   "cell_type": "code",
   "execution_count": 56,
   "id": "c0b61f10",
   "metadata": {},
   "outputs": [
    {
     "name": "stdout",
     "output_type": "stream",
     "text": [
      "MAPE: 153.39496001200894\n"
     ]
    }
   ],
   "source": [
    "def mean_absolute_percentage_error(y_true, y_pred):\n",
    "    return np.mean(np.abs((y_true - y_pred) / y_true)) * 100\n",
    "\n",
    "mape = mean_absolute_percentage_error(test['y'], pred['yhat'])\n",
    "print(\"MAPE:\", mape)"
   ]
  },
  {
   "cell_type": "code",
   "execution_count": 65,
   "id": "b9c8902c",
   "metadata": {},
   "outputs": [
    {
     "name": "stdout",
     "output_type": "stream",
     "text": [
      "MAPE: (48.88729028297769, 2) %\n"
     ]
    }
   ],
   "source": [
    "from sklearn.metrics import mean_absolute_error, mean_absolute_percentage_error\n",
    "\n",
    "print(f\"MAPE: {(mean_absolute_percentage_error(pred.yhat, test.y)*100, 2)} %\")"
   ]
  },
  {
   "cell_type": "code",
   "execution_count": 66,
   "id": "c4ff687f",
   "metadata": {},
   "outputs": [
    {
     "name": "stderr",
     "output_type": "stream",
     "text": [
      "15:47:40 - cmdstanpy - INFO - Chain [1] start processing\n",
      "15:47:40 - cmdstanpy - INFO - Chain [1] done processing\n"
     ]
    }
   ],
   "source": [
    "model = Prophet()\n",
    "model.fit(train_out)\n",
    "forecast = model.predict(test_out)"
   ]
  },
  {
   "cell_type": "code",
   "execution_count": 67,
   "id": "ea7ef2ee",
   "metadata": {},
   "outputs": [
    {
     "data": {
      "image/png": "[encoded data removed]",
      "text/plain": [
       "<Figure size 640x480 with 1 Axes>"
      ]
     },
     "metadata": {},
     "output_type": "display_data"
    }
   ],
   "source": [
    "ax = forecast.plot(x=\"ds\", y=\"yhat\", label=\"Предсказание\", color=\"red\", linestyle=\"--\")\n",
    "test_out.plot(x=\"ds\", y=\"y\", ax=ax, label=\"Исходные данные\", color=\"green\")\n",
    "plt.xlabel(\"Дата\")\n",
    "plt.ylabel(\"Значение\")\n",
    "plt.title(\"Прогноз на месяц\")\n",
    "plt.legend()\n",
    "plt.show()"
   ]
  },
  {
   "cell_type": "code",
   "execution_count": 70,
   "id": "932a1940",
   "metadata": {},
   "outputs": [
    {
     "name": "stdout",
     "output_type": "stream",
     "text": [
      "MAPE: 76.94464751517039\n"
     ]
    }
   ],
   "source": [
    "def mean_absolute_percentage_error(y_true, y_pred):\n",
    "    return np.mean(np.abs((y_true - y_pred) / y_true)) * 100\n",
    "\n",
    "mape = mean_absolute_percentage_error(test_out['y'].values, forecast['yhat'].values)\n",
    "print(\"MAPE:\", mape)"
   ]
  },
  {
   "cell_type": "code",
   "execution_count": 68,
   "id": "1ea87b98",
   "metadata": {},
   "outputs": [
    {
     "name": "stdout",
     "output_type": "stream",
     "text": [
      "MAPE: (23.830283706077786, 2) %\n"
     ]
    }
   ],
   "source": [
    "print(f\"MAPE: {(mean_absolute_percentage_error(forecast.yhat, test_out.y)*100, 2)} %\")"
   ]
  },
  {
   "cell_type": "code",
   "execution_count": null,
   "id": "62571d1a",
   "metadata": {},
   "outputs": [],
   "source": []
  }
 ],
 "metadata": {
  "kernelspec": {
   "display_name": "Python 3 (ipykernel)",
   "language": "python",
   "name": "python3"
  },
  "language_info": {
   "codemirror_mode": {
    "name": "ipython",
    "version": 3
   },
   "file_extension": ".py",
   "mimetype": "text/x-python",
   "name": "python",
   "nbconvert_exporter": "python",
   "pygments_lexer": "ipython3",
   "version": "3.9.13"
  }
 },
 "nbformat": 4,
 "nbformat_minor": 5
}
